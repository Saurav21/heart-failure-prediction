{
 "cells": [
  {
   "cell_type": "code",
   "execution_count": 1,
   "id": "2a755f69",
   "metadata": {
    "execution": {
     "iopub.execute_input": "2021-11-20T16:10:06.125578Z",
     "iopub.status.busy": "2021-11-20T16:10:06.124075Z",
     "iopub.status.idle": "2021-11-20T16:10:06.151054Z",
     "shell.execute_reply": "2021-11-20T16:10:06.150479Z",
     "shell.execute_reply.started": "2021-11-20T16:08:41.288008Z"
    },
    "papermill": {
     "duration": 0.061087,
     "end_time": "2021-11-20T16:10:06.151193",
     "exception": false,
     "start_time": "2021-11-20T16:10:06.090106",
     "status": "completed"
    },
    "tags": []
   },
   "outputs": [],
   "source": [
    "import pandas as pd\n",
    "\n",
    "data = pd.read_csv(\"../input/heart-failure-prediction/heart.csv\")"
   ]
  },
  {
   "cell_type": "code",
   "execution_count": 2,
   "id": "8aae0500",
   "metadata": {
    "execution": {
     "iopub.execute_input": "2021-11-20T16:10:06.218312Z",
     "iopub.status.busy": "2021-11-20T16:10:06.217618Z",
     "iopub.status.idle": "2021-11-20T16:10:06.232221Z",
     "shell.execute_reply": "2021-11-20T16:10:06.232660Z",
     "shell.execute_reply.started": "2021-11-20T16:08:41.319729Z"
    },
    "papermill": {
     "duration": 0.051252,
     "end_time": "2021-11-20T16:10:06.232777",
     "exception": false,
     "start_time": "2021-11-20T16:10:06.181525",
     "status": "completed"
    },
    "tags": []
   },
   "outputs": [
    {
     "data": {
      "text/html": [
       "<div>\n",
       "<style scoped>\n",
       "    .dataframe tbody tr th:only-of-type {\n",
       "        vertical-align: middle;\n",
       "    }\n",
       "\n",
       "    .dataframe tbody tr th {\n",
       "        vertical-align: top;\n",
       "    }\n",
       "\n",
       "    .dataframe thead th {\n",
       "        text-align: right;\n",
       "    }\n",
       "</style>\n",
       "<table border=\"1\" class=\"dataframe\">\n",
       "  <thead>\n",
       "    <tr style=\"text-align: right;\">\n",
       "      <th></th>\n",
       "      <th>Age</th>\n",
       "      <th>Sex</th>\n",
       "      <th>ChestPainType</th>\n",
       "      <th>RestingBP</th>\n",
       "      <th>Cholesterol</th>\n",
       "      <th>FastingBS</th>\n",
       "      <th>RestingECG</th>\n",
       "      <th>MaxHR</th>\n",
       "      <th>ExerciseAngina</th>\n",
       "      <th>Oldpeak</th>\n",
       "      <th>ST_Slope</th>\n",
       "      <th>HeartDisease</th>\n",
       "    </tr>\n",
       "  </thead>\n",
       "  <tbody>\n",
       "    <tr>\n",
       "      <th>0</th>\n",
       "      <td>40</td>\n",
       "      <td>M</td>\n",
       "      <td>ATA</td>\n",
       "      <td>140</td>\n",
       "      <td>289</td>\n",
       "      <td>0</td>\n",
       "      <td>Normal</td>\n",
       "      <td>172</td>\n",
       "      <td>N</td>\n",
       "      <td>0.0</td>\n",
       "      <td>Up</td>\n",
       "      <td>0</td>\n",
       "    </tr>\n",
       "    <tr>\n",
       "      <th>1</th>\n",
       "      <td>49</td>\n",
       "      <td>F</td>\n",
       "      <td>NAP</td>\n",
       "      <td>160</td>\n",
       "      <td>180</td>\n",
       "      <td>0</td>\n",
       "      <td>Normal</td>\n",
       "      <td>156</td>\n",
       "      <td>N</td>\n",
       "      <td>1.0</td>\n",
       "      <td>Flat</td>\n",
       "      <td>1</td>\n",
       "    </tr>\n",
       "    <tr>\n",
       "      <th>2</th>\n",
       "      <td>37</td>\n",
       "      <td>M</td>\n",
       "      <td>ATA</td>\n",
       "      <td>130</td>\n",
       "      <td>283</td>\n",
       "      <td>0</td>\n",
       "      <td>ST</td>\n",
       "      <td>98</td>\n",
       "      <td>N</td>\n",
       "      <td>0.0</td>\n",
       "      <td>Up</td>\n",
       "      <td>0</td>\n",
       "    </tr>\n",
       "    <tr>\n",
       "      <th>3</th>\n",
       "      <td>48</td>\n",
       "      <td>F</td>\n",
       "      <td>ASY</td>\n",
       "      <td>138</td>\n",
       "      <td>214</td>\n",
       "      <td>0</td>\n",
       "      <td>Normal</td>\n",
       "      <td>108</td>\n",
       "      <td>Y</td>\n",
       "      <td>1.5</td>\n",
       "      <td>Flat</td>\n",
       "      <td>1</td>\n",
       "    </tr>\n",
       "    <tr>\n",
       "      <th>4</th>\n",
       "      <td>54</td>\n",
       "      <td>M</td>\n",
       "      <td>NAP</td>\n",
       "      <td>150</td>\n",
       "      <td>195</td>\n",
       "      <td>0</td>\n",
       "      <td>Normal</td>\n",
       "      <td>122</td>\n",
       "      <td>N</td>\n",
       "      <td>0.0</td>\n",
       "      <td>Up</td>\n",
       "      <td>0</td>\n",
       "    </tr>\n",
       "  </tbody>\n",
       "</table>\n",
       "</div>"
      ],
      "text/plain": [
       "   Age Sex ChestPainType  RestingBP  Cholesterol  FastingBS RestingECG  MaxHR  \\\n",
       "0   40   M           ATA        140          289          0     Normal    172   \n",
       "1   49   F           NAP        160          180          0     Normal    156   \n",
       "2   37   M           ATA        130          283          0         ST     98   \n",
       "3   48   F           ASY        138          214          0     Normal    108   \n",
       "4   54   M           NAP        150          195          0     Normal    122   \n",
       "\n",
       "  ExerciseAngina  Oldpeak ST_Slope  HeartDisease  \n",
       "0              N      0.0       Up             0  \n",
       "1              N      1.0     Flat             1  \n",
       "2              N      0.0       Up             0  \n",
       "3              Y      1.5     Flat             1  \n",
       "4              N      0.0       Up             0  "
      ]
     },
     "execution_count": 2,
     "metadata": {},
     "output_type": "execute_result"
    }
   ],
   "source": [
    "data.head()"
   ]
  },
  {
   "cell_type": "markdown",
   "id": "7648ffc3",
   "metadata": {
    "papermill": {
     "duration": 0.028535,
     "end_time": "2021-11-20T16:10:06.292002",
     "exception": false,
     "start_time": "2021-11-20T16:10:06.263467",
     "status": "completed"
    },
    "tags": []
   },
   "source": [
    "## **Heart Disease = 1 Normal = 0**"
   ]
  },
  {
   "cell_type": "code",
   "execution_count": 3,
   "id": "231abb16",
   "metadata": {
    "execution": {
     "iopub.execute_input": "2021-11-20T16:10:06.370409Z",
     "iopub.status.busy": "2021-11-20T16:10:06.357570Z",
     "iopub.status.idle": "2021-11-20T16:10:06.373051Z",
     "shell.execute_reply": "2021-11-20T16:10:06.373461Z",
     "shell.execute_reply.started": "2021-11-20T16:08:41.346067Z"
    },
    "papermill": {
     "duration": 0.052697,
     "end_time": "2021-11-20T16:10:06.373618",
     "exception": false,
     "start_time": "2021-11-20T16:10:06.320921",
     "status": "completed"
    },
    "tags": []
   },
   "outputs": [
    {
     "name": "stdout",
     "output_type": "stream",
     "text": [
      "<class 'pandas.core.frame.DataFrame'>\n",
      "RangeIndex: 918 entries, 0 to 917\n",
      "Data columns (total 12 columns):\n",
      " #   Column          Non-Null Count  Dtype  \n",
      "---  ------          --------------  -----  \n",
      " 0   Age             918 non-null    int64  \n",
      " 1   Sex             918 non-null    object \n",
      " 2   ChestPainType   918 non-null    object \n",
      " 3   RestingBP       918 non-null    int64  \n",
      " 4   Cholesterol     918 non-null    int64  \n",
      " 5   FastingBS       918 non-null    int64  \n",
      " 6   RestingECG      918 non-null    object \n",
      " 7   MaxHR           918 non-null    int64  \n",
      " 8   ExerciseAngina  918 non-null    object \n",
      " 9   Oldpeak         918 non-null    float64\n",
      " 10  ST_Slope        918 non-null    object \n",
      " 11  HeartDisease    918 non-null    int64  \n",
      "dtypes: float64(1), int64(6), object(5)\n",
      "memory usage: 86.2+ KB\n"
     ]
    }
   ],
   "source": [
    "data.info()"
   ]
  },
  {
   "cell_type": "code",
   "execution_count": 4,
   "id": "1764ea21",
   "metadata": {
    "execution": {
     "iopub.execute_input": "2021-11-20T16:10:06.436970Z",
     "iopub.status.busy": "2021-11-20T16:10:06.436070Z",
     "iopub.status.idle": "2021-11-20T16:10:06.443745Z",
     "shell.execute_reply": "2021-11-20T16:10:06.443341Z",
     "shell.execute_reply.started": "2021-11-20T16:08:41.373343Z"
    },
    "papermill": {
     "duration": 0.039605,
     "end_time": "2021-11-20T16:10:06.443846",
     "exception": false,
     "start_time": "2021-11-20T16:10:06.404241",
     "status": "completed"
    },
    "tags": []
   },
   "outputs": [
    {
     "data": {
      "text/plain": [
       "Age               0\n",
       "Sex               0\n",
       "ChestPainType     0\n",
       "RestingBP         0\n",
       "Cholesterol       0\n",
       "FastingBS         0\n",
       "RestingECG        0\n",
       "MaxHR             0\n",
       "ExerciseAngina    0\n",
       "Oldpeak           0\n",
       "ST_Slope          0\n",
       "HeartDisease      0\n",
       "dtype: int64"
      ]
     },
     "execution_count": 4,
     "metadata": {},
     "output_type": "execute_result"
    }
   ],
   "source": [
    "data.isnull().sum()"
   ]
  },
  {
   "cell_type": "code",
   "execution_count": 5,
   "id": "dd8ad6b3",
   "metadata": {
    "execution": {
     "iopub.execute_input": "2021-11-20T16:10:06.507727Z",
     "iopub.status.busy": "2021-11-20T16:10:06.506345Z",
     "iopub.status.idle": "2021-11-20T16:10:06.510854Z",
     "shell.execute_reply": "2021-11-20T16:10:06.510439Z",
     "shell.execute_reply.started": "2021-11-20T16:08:41.385684Z"
    },
    "papermill": {
     "duration": 0.037481,
     "end_time": "2021-11-20T16:10:06.510979",
     "exception": false,
     "start_time": "2021-11-20T16:10:06.473498",
     "status": "completed"
    },
    "tags": []
   },
   "outputs": [
    {
     "data": {
      "text/plain": [
       "array(['ATA', 'NAP', 'ASY', 'TA'], dtype=object)"
      ]
     },
     "execution_count": 5,
     "metadata": {},
     "output_type": "execute_result"
    }
   ],
   "source": [
    "data[\"ChestPainType\"].unique()"
   ]
  },
  {
   "cell_type": "code",
   "execution_count": 6,
   "id": "a7a5a49a",
   "metadata": {
    "execution": {
     "iopub.execute_input": "2021-11-20T16:10:06.575623Z",
     "iopub.status.busy": "2021-11-20T16:10:06.575021Z",
     "iopub.status.idle": "2021-11-20T16:10:06.577426Z",
     "shell.execute_reply": "2021-11-20T16:10:06.577922Z",
     "shell.execute_reply.started": "2021-11-20T16:08:41.398649Z"
    },
    "papermill": {
     "duration": 0.037441,
     "end_time": "2021-11-20T16:10:06.578040",
     "exception": false,
     "start_time": "2021-11-20T16:10:06.540599",
     "status": "completed"
    },
    "tags": []
   },
   "outputs": [
    {
     "data": {
      "text/plain": [
       "array(['Normal', 'ST', 'LVH'], dtype=object)"
      ]
     },
     "execution_count": 6,
     "metadata": {},
     "output_type": "execute_result"
    }
   ],
   "source": [
    "data[\"RestingECG\"].unique()"
   ]
  },
  {
   "cell_type": "code",
   "execution_count": 7,
   "id": "c1124606",
   "metadata": {
    "execution": {
     "iopub.execute_input": "2021-11-20T16:10:06.642560Z",
     "iopub.status.busy": "2021-11-20T16:10:06.642058Z",
     "iopub.status.idle": "2021-11-20T16:10:06.646593Z",
     "shell.execute_reply": "2021-11-20T16:10:06.647012Z",
     "shell.execute_reply.started": "2021-11-20T16:08:41.406587Z"
    },
    "papermill": {
     "duration": 0.038898,
     "end_time": "2021-11-20T16:10:06.647132",
     "exception": false,
     "start_time": "2021-11-20T16:10:06.608234",
     "status": "completed"
    },
    "tags": []
   },
   "outputs": [
    {
     "data": {
      "text/plain": [
       "array(['N', 'Y'], dtype=object)"
      ]
     },
     "execution_count": 7,
     "metadata": {},
     "output_type": "execute_result"
    }
   ],
   "source": [
    "data[\"ExerciseAngina\"].unique()"
   ]
  },
  {
   "cell_type": "code",
   "execution_count": 8,
   "id": "018f3dfa",
   "metadata": {
    "execution": {
     "iopub.execute_input": "2021-11-20T16:10:06.714631Z",
     "iopub.status.busy": "2021-11-20T16:10:06.713553Z",
     "iopub.status.idle": "2021-11-20T16:10:06.716547Z",
     "shell.execute_reply": "2021-11-20T16:10:06.716965Z",
     "shell.execute_reply.started": "2021-11-20T16:08:41.417166Z"
    },
    "papermill": {
     "duration": 0.039052,
     "end_time": "2021-11-20T16:10:06.717081",
     "exception": false,
     "start_time": "2021-11-20T16:10:06.678029",
     "status": "completed"
    },
    "tags": []
   },
   "outputs": [
    {
     "data": {
      "text/plain": [
       "array(['Up', 'Flat', 'Down'], dtype=object)"
      ]
     },
     "execution_count": 8,
     "metadata": {},
     "output_type": "execute_result"
    }
   ],
   "source": [
    "data[\"ST_Slope\"].unique()"
   ]
  },
  {
   "cell_type": "code",
   "execution_count": 9,
   "id": "e7913eb2",
   "metadata": {
    "execution": {
     "iopub.execute_input": "2021-11-20T16:10:06.782812Z",
     "iopub.status.busy": "2021-11-20T16:10:06.782160Z",
     "iopub.status.idle": "2021-11-20T16:10:06.784708Z",
     "shell.execute_reply": "2021-11-20T16:10:06.784285Z",
     "shell.execute_reply.started": "2021-11-20T16:08:41.425149Z"
    },
    "papermill": {
     "duration": 0.037007,
     "end_time": "2021-11-20T16:10:06.784803",
     "exception": false,
     "start_time": "2021-11-20T16:10:06.747796",
     "status": "completed"
    },
    "tags": []
   },
   "outputs": [],
   "source": [
    "label_data = data[[\"Sex\",\"ChestPainType\",\"RestingECG\",\"ExerciseAngina\",\"ST_Slope\"]]"
   ]
  },
  {
   "cell_type": "code",
   "execution_count": 10,
   "id": "3efabdb6",
   "metadata": {
    "execution": {
     "iopub.execute_input": "2021-11-20T16:10:06.856199Z",
     "iopub.status.busy": "2021-11-20T16:10:06.855451Z",
     "iopub.status.idle": "2021-11-20T16:10:06.858228Z",
     "shell.execute_reply": "2021-11-20T16:10:06.858677Z",
     "shell.execute_reply.started": "2021-11-20T16:08:41.433857Z"
    },
    "papermill": {
     "duration": 0.04327,
     "end_time": "2021-11-20T16:10:06.858797",
     "exception": false,
     "start_time": "2021-11-20T16:10:06.815527",
     "status": "completed"
    },
    "tags": []
   },
   "outputs": [
    {
     "data": {
      "text/html": [
       "<div>\n",
       "<style scoped>\n",
       "    .dataframe tbody tr th:only-of-type {\n",
       "        vertical-align: middle;\n",
       "    }\n",
       "\n",
       "    .dataframe tbody tr th {\n",
       "        vertical-align: top;\n",
       "    }\n",
       "\n",
       "    .dataframe thead th {\n",
       "        text-align: right;\n",
       "    }\n",
       "</style>\n",
       "<table border=\"1\" class=\"dataframe\">\n",
       "  <thead>\n",
       "    <tr style=\"text-align: right;\">\n",
       "      <th></th>\n",
       "      <th>Sex</th>\n",
       "      <th>ChestPainType</th>\n",
       "      <th>RestingECG</th>\n",
       "      <th>ExerciseAngina</th>\n",
       "      <th>ST_Slope</th>\n",
       "    </tr>\n",
       "  </thead>\n",
       "  <tbody>\n",
       "    <tr>\n",
       "      <th>0</th>\n",
       "      <td>M</td>\n",
       "      <td>ATA</td>\n",
       "      <td>Normal</td>\n",
       "      <td>N</td>\n",
       "      <td>Up</td>\n",
       "    </tr>\n",
       "    <tr>\n",
       "      <th>1</th>\n",
       "      <td>F</td>\n",
       "      <td>NAP</td>\n",
       "      <td>Normal</td>\n",
       "      <td>N</td>\n",
       "      <td>Flat</td>\n",
       "    </tr>\n",
       "    <tr>\n",
       "      <th>2</th>\n",
       "      <td>M</td>\n",
       "      <td>ATA</td>\n",
       "      <td>ST</td>\n",
       "      <td>N</td>\n",
       "      <td>Up</td>\n",
       "    </tr>\n",
       "    <tr>\n",
       "      <th>3</th>\n",
       "      <td>F</td>\n",
       "      <td>ASY</td>\n",
       "      <td>Normal</td>\n",
       "      <td>Y</td>\n",
       "      <td>Flat</td>\n",
       "    </tr>\n",
       "    <tr>\n",
       "      <th>4</th>\n",
       "      <td>M</td>\n",
       "      <td>NAP</td>\n",
       "      <td>Normal</td>\n",
       "      <td>N</td>\n",
       "      <td>Up</td>\n",
       "    </tr>\n",
       "  </tbody>\n",
       "</table>\n",
       "</div>"
      ],
      "text/plain": [
       "  Sex ChestPainType RestingECG ExerciseAngina ST_Slope\n",
       "0   M           ATA     Normal              N       Up\n",
       "1   F           NAP     Normal              N     Flat\n",
       "2   M           ATA         ST              N       Up\n",
       "3   F           ASY     Normal              Y     Flat\n",
       "4   M           NAP     Normal              N       Up"
      ]
     },
     "execution_count": 10,
     "metadata": {},
     "output_type": "execute_result"
    }
   ],
   "source": [
    "label_data.head()"
   ]
  },
  {
   "cell_type": "code",
   "execution_count": 11,
   "id": "6422f836",
   "metadata": {
    "execution": {
     "iopub.execute_input": "2021-11-20T16:10:06.968261Z",
     "iopub.status.busy": "2021-11-20T16:10:06.967140Z",
     "iopub.status.idle": "2021-11-20T16:10:06.980266Z",
     "shell.execute_reply": "2021-11-20T16:10:06.979777Z",
     "shell.execute_reply.started": "2021-11-20T16:08:41.446893Z"
    },
    "papermill": {
     "duration": 0.090026,
     "end_time": "2021-11-20T16:10:06.980375",
     "exception": false,
     "start_time": "2021-11-20T16:10:06.890349",
     "status": "completed"
    },
    "tags": []
   },
   "outputs": [],
   "source": [
    "dummy_data = pd.get_dummies(label_data)"
   ]
  },
  {
   "cell_type": "code",
   "execution_count": 12,
   "id": "3f40206b",
   "metadata": {
    "execution": {
     "iopub.execute_input": "2021-11-20T16:10:07.055312Z",
     "iopub.status.busy": "2021-11-20T16:10:07.054642Z",
     "iopub.status.idle": "2021-11-20T16:10:07.057689Z",
     "shell.execute_reply": "2021-11-20T16:10:07.058136Z",
     "shell.execute_reply.started": "2021-11-20T16:08:41.460077Z"
    },
    "papermill": {
     "duration": 0.045945,
     "end_time": "2021-11-20T16:10:07.058272",
     "exception": false,
     "start_time": "2021-11-20T16:10:07.012327",
     "status": "completed"
    },
    "tags": []
   },
   "outputs": [
    {
     "data": {
      "text/html": [
       "<div>\n",
       "<style scoped>\n",
       "    .dataframe tbody tr th:only-of-type {\n",
       "        vertical-align: middle;\n",
       "    }\n",
       "\n",
       "    .dataframe tbody tr th {\n",
       "        vertical-align: top;\n",
       "    }\n",
       "\n",
       "    .dataframe thead th {\n",
       "        text-align: right;\n",
       "    }\n",
       "</style>\n",
       "<table border=\"1\" class=\"dataframe\">\n",
       "  <thead>\n",
       "    <tr style=\"text-align: right;\">\n",
       "      <th></th>\n",
       "      <th>Sex_F</th>\n",
       "      <th>Sex_M</th>\n",
       "      <th>ChestPainType_ASY</th>\n",
       "      <th>ChestPainType_ATA</th>\n",
       "      <th>ChestPainType_NAP</th>\n",
       "      <th>ChestPainType_TA</th>\n",
       "      <th>RestingECG_LVH</th>\n",
       "      <th>RestingECG_Normal</th>\n",
       "      <th>RestingECG_ST</th>\n",
       "      <th>ExerciseAngina_N</th>\n",
       "      <th>ExerciseAngina_Y</th>\n",
       "      <th>ST_Slope_Down</th>\n",
       "      <th>ST_Slope_Flat</th>\n",
       "      <th>ST_Slope_Up</th>\n",
       "    </tr>\n",
       "  </thead>\n",
       "  <tbody>\n",
       "    <tr>\n",
       "      <th>0</th>\n",
       "      <td>0</td>\n",
       "      <td>1</td>\n",
       "      <td>0</td>\n",
       "      <td>1</td>\n",
       "      <td>0</td>\n",
       "      <td>0</td>\n",
       "      <td>0</td>\n",
       "      <td>1</td>\n",
       "      <td>0</td>\n",
       "      <td>1</td>\n",
       "      <td>0</td>\n",
       "      <td>0</td>\n",
       "      <td>0</td>\n",
       "      <td>1</td>\n",
       "    </tr>\n",
       "    <tr>\n",
       "      <th>1</th>\n",
       "      <td>1</td>\n",
       "      <td>0</td>\n",
       "      <td>0</td>\n",
       "      <td>0</td>\n",
       "      <td>1</td>\n",
       "      <td>0</td>\n",
       "      <td>0</td>\n",
       "      <td>1</td>\n",
       "      <td>0</td>\n",
       "      <td>1</td>\n",
       "      <td>0</td>\n",
       "      <td>0</td>\n",
       "      <td>1</td>\n",
       "      <td>0</td>\n",
       "    </tr>\n",
       "    <tr>\n",
       "      <th>2</th>\n",
       "      <td>0</td>\n",
       "      <td>1</td>\n",
       "      <td>0</td>\n",
       "      <td>1</td>\n",
       "      <td>0</td>\n",
       "      <td>0</td>\n",
       "      <td>0</td>\n",
       "      <td>0</td>\n",
       "      <td>1</td>\n",
       "      <td>1</td>\n",
       "      <td>0</td>\n",
       "      <td>0</td>\n",
       "      <td>0</td>\n",
       "      <td>1</td>\n",
       "    </tr>\n",
       "    <tr>\n",
       "      <th>3</th>\n",
       "      <td>1</td>\n",
       "      <td>0</td>\n",
       "      <td>1</td>\n",
       "      <td>0</td>\n",
       "      <td>0</td>\n",
       "      <td>0</td>\n",
       "      <td>0</td>\n",
       "      <td>1</td>\n",
       "      <td>0</td>\n",
       "      <td>0</td>\n",
       "      <td>1</td>\n",
       "      <td>0</td>\n",
       "      <td>1</td>\n",
       "      <td>0</td>\n",
       "    </tr>\n",
       "    <tr>\n",
       "      <th>4</th>\n",
       "      <td>0</td>\n",
       "      <td>1</td>\n",
       "      <td>0</td>\n",
       "      <td>0</td>\n",
       "      <td>1</td>\n",
       "      <td>0</td>\n",
       "      <td>0</td>\n",
       "      <td>1</td>\n",
       "      <td>0</td>\n",
       "      <td>1</td>\n",
       "      <td>0</td>\n",
       "      <td>0</td>\n",
       "      <td>0</td>\n",
       "      <td>1</td>\n",
       "    </tr>\n",
       "  </tbody>\n",
       "</table>\n",
       "</div>"
      ],
      "text/plain": [
       "   Sex_F  Sex_M  ChestPainType_ASY  ChestPainType_ATA  ChestPainType_NAP  \\\n",
       "0      0      1                  0                  1                  0   \n",
       "1      1      0                  0                  0                  1   \n",
       "2      0      1                  0                  1                  0   \n",
       "3      1      0                  1                  0                  0   \n",
       "4      0      1                  0                  0                  1   \n",
       "\n",
       "   ChestPainType_TA  RestingECG_LVH  RestingECG_Normal  RestingECG_ST  \\\n",
       "0                 0               0                  1              0   \n",
       "1                 0               0                  1              0   \n",
       "2                 0               0                  0              1   \n",
       "3                 0               0                  1              0   \n",
       "4                 0               0                  1              0   \n",
       "\n",
       "   ExerciseAngina_N  ExerciseAngina_Y  ST_Slope_Down  ST_Slope_Flat  \\\n",
       "0                 1                 0              0              0   \n",
       "1                 1                 0              0              1   \n",
       "2                 1                 0              0              0   \n",
       "3                 0                 1              0              1   \n",
       "4                 1                 0              0              0   \n",
       "\n",
       "   ST_Slope_Up  \n",
       "0            1  \n",
       "1            0  \n",
       "2            1  \n",
       "3            0  \n",
       "4            1  "
      ]
     },
     "execution_count": 12,
     "metadata": {},
     "output_type": "execute_result"
    }
   ],
   "source": [
    "dummy_data.head()"
   ]
  },
  {
   "cell_type": "code",
   "execution_count": 13,
   "id": "71c328b9",
   "metadata": {
    "execution": {
     "iopub.execute_input": "2021-11-20T16:10:07.128255Z",
     "iopub.status.busy": "2021-11-20T16:10:07.127528Z",
     "iopub.status.idle": "2021-11-20T16:10:07.129464Z",
     "shell.execute_reply": "2021-11-20T16:10:07.129830Z",
     "shell.execute_reply.started": "2021-11-20T16:08:41.477391Z"
    },
    "papermill": {
     "duration": 0.039464,
     "end_time": "2021-11-20T16:10:07.129982",
     "exception": false,
     "start_time": "2021-11-20T16:10:07.090518",
     "status": "completed"
    },
    "tags": []
   },
   "outputs": [],
   "source": [
    "rest_data = data.drop(label_data, axis = 1)\n",
    "rest_data = rest_data.drop(\"HeartDisease\", axis = 1)"
   ]
  },
  {
   "cell_type": "code",
   "execution_count": 14,
   "id": "08f24cd5",
   "metadata": {
    "execution": {
     "iopub.execute_input": "2021-11-20T16:10:07.201565Z",
     "iopub.status.busy": "2021-11-20T16:10:07.200674Z",
     "iopub.status.idle": "2021-11-20T16:10:07.207473Z",
     "shell.execute_reply": "2021-11-20T16:10:07.207018Z",
     "shell.execute_reply.started": "2021-11-20T16:08:41.486941Z"
    },
    "papermill": {
     "duration": 0.044429,
     "end_time": "2021-11-20T16:10:07.207576",
     "exception": false,
     "start_time": "2021-11-20T16:10:07.163147",
     "status": "completed"
    },
    "tags": []
   },
   "outputs": [
    {
     "data": {
      "text/html": [
       "<div>\n",
       "<style scoped>\n",
       "    .dataframe tbody tr th:only-of-type {\n",
       "        vertical-align: middle;\n",
       "    }\n",
       "\n",
       "    .dataframe tbody tr th {\n",
       "        vertical-align: top;\n",
       "    }\n",
       "\n",
       "    .dataframe thead th {\n",
       "        text-align: right;\n",
       "    }\n",
       "</style>\n",
       "<table border=\"1\" class=\"dataframe\">\n",
       "  <thead>\n",
       "    <tr style=\"text-align: right;\">\n",
       "      <th></th>\n",
       "      <th>Age</th>\n",
       "      <th>RestingBP</th>\n",
       "      <th>Cholesterol</th>\n",
       "      <th>FastingBS</th>\n",
       "      <th>MaxHR</th>\n",
       "      <th>Oldpeak</th>\n",
       "    </tr>\n",
       "  </thead>\n",
       "  <tbody>\n",
       "    <tr>\n",
       "      <th>0</th>\n",
       "      <td>40</td>\n",
       "      <td>140</td>\n",
       "      <td>289</td>\n",
       "      <td>0</td>\n",
       "      <td>172</td>\n",
       "      <td>0.0</td>\n",
       "    </tr>\n",
       "    <tr>\n",
       "      <th>1</th>\n",
       "      <td>49</td>\n",
       "      <td>160</td>\n",
       "      <td>180</td>\n",
       "      <td>0</td>\n",
       "      <td>156</td>\n",
       "      <td>1.0</td>\n",
       "    </tr>\n",
       "    <tr>\n",
       "      <th>2</th>\n",
       "      <td>37</td>\n",
       "      <td>130</td>\n",
       "      <td>283</td>\n",
       "      <td>0</td>\n",
       "      <td>98</td>\n",
       "      <td>0.0</td>\n",
       "    </tr>\n",
       "    <tr>\n",
       "      <th>3</th>\n",
       "      <td>48</td>\n",
       "      <td>138</td>\n",
       "      <td>214</td>\n",
       "      <td>0</td>\n",
       "      <td>108</td>\n",
       "      <td>1.5</td>\n",
       "    </tr>\n",
       "    <tr>\n",
       "      <th>4</th>\n",
       "      <td>54</td>\n",
       "      <td>150</td>\n",
       "      <td>195</td>\n",
       "      <td>0</td>\n",
       "      <td>122</td>\n",
       "      <td>0.0</td>\n",
       "    </tr>\n",
       "  </tbody>\n",
       "</table>\n",
       "</div>"
      ],
      "text/plain": [
       "   Age  RestingBP  Cholesterol  FastingBS  MaxHR  Oldpeak\n",
       "0   40        140          289          0    172      0.0\n",
       "1   49        160          180          0    156      1.0\n",
       "2   37        130          283          0     98      0.0\n",
       "3   48        138          214          0    108      1.5\n",
       "4   54        150          195          0    122      0.0"
      ]
     },
     "execution_count": 14,
     "metadata": {},
     "output_type": "execute_result"
    }
   ],
   "source": [
    "rest_data.head()"
   ]
  },
  {
   "cell_type": "code",
   "execution_count": 15,
   "id": "7efb2ba6",
   "metadata": {
    "execution": {
     "iopub.execute_input": "2021-11-20T16:10:07.279479Z",
     "iopub.status.busy": "2021-11-20T16:10:07.278930Z",
     "iopub.status.idle": "2021-11-20T16:10:07.281690Z",
     "shell.execute_reply": "2021-11-20T16:10:07.281298Z",
     "shell.execute_reply.started": "2021-11-20T16:08:41.501480Z"
    },
    "papermill": {
     "duration": 0.039216,
     "end_time": "2021-11-20T16:10:07.281791",
     "exception": false,
     "start_time": "2021-11-20T16:10:07.242575",
     "status": "completed"
    },
    "tags": []
   },
   "outputs": [],
   "source": [
    "data_concat = pd.concat([rest_data, dummy_data],axis = 1)"
   ]
  },
  {
   "cell_type": "code",
   "execution_count": 16,
   "id": "ec670755",
   "metadata": {
    "execution": {
     "iopub.execute_input": "2021-11-20T16:10:07.361673Z",
     "iopub.status.busy": "2021-11-20T16:10:07.360950Z",
     "iopub.status.idle": "2021-11-20T16:10:07.364008Z",
     "shell.execute_reply": "2021-11-20T16:10:07.364474Z",
     "shell.execute_reply.started": "2021-11-20T16:08:41.509099Z"
    },
    "papermill": {
     "duration": 0.049794,
     "end_time": "2021-11-20T16:10:07.364606",
     "exception": false,
     "start_time": "2021-11-20T16:10:07.314812",
     "status": "completed"
    },
    "tags": []
   },
   "outputs": [
    {
     "data": {
      "text/html": [
       "<div>\n",
       "<style scoped>\n",
       "    .dataframe tbody tr th:only-of-type {\n",
       "        vertical-align: middle;\n",
       "    }\n",
       "\n",
       "    .dataframe tbody tr th {\n",
       "        vertical-align: top;\n",
       "    }\n",
       "\n",
       "    .dataframe thead th {\n",
       "        text-align: right;\n",
       "    }\n",
       "</style>\n",
       "<table border=\"1\" class=\"dataframe\">\n",
       "  <thead>\n",
       "    <tr style=\"text-align: right;\">\n",
       "      <th></th>\n",
       "      <th>Age</th>\n",
       "      <th>RestingBP</th>\n",
       "      <th>Cholesterol</th>\n",
       "      <th>FastingBS</th>\n",
       "      <th>MaxHR</th>\n",
       "      <th>Oldpeak</th>\n",
       "      <th>Sex_F</th>\n",
       "      <th>Sex_M</th>\n",
       "      <th>ChestPainType_ASY</th>\n",
       "      <th>ChestPainType_ATA</th>\n",
       "      <th>ChestPainType_NAP</th>\n",
       "      <th>ChestPainType_TA</th>\n",
       "      <th>RestingECG_LVH</th>\n",
       "      <th>RestingECG_Normal</th>\n",
       "      <th>RestingECG_ST</th>\n",
       "      <th>ExerciseAngina_N</th>\n",
       "      <th>ExerciseAngina_Y</th>\n",
       "      <th>ST_Slope_Down</th>\n",
       "      <th>ST_Slope_Flat</th>\n",
       "      <th>ST_Slope_Up</th>\n",
       "    </tr>\n",
       "  </thead>\n",
       "  <tbody>\n",
       "    <tr>\n",
       "      <th>0</th>\n",
       "      <td>40</td>\n",
       "      <td>140</td>\n",
       "      <td>289</td>\n",
       "      <td>0</td>\n",
       "      <td>172</td>\n",
       "      <td>0.0</td>\n",
       "      <td>0</td>\n",
       "      <td>1</td>\n",
       "      <td>0</td>\n",
       "      <td>1</td>\n",
       "      <td>0</td>\n",
       "      <td>0</td>\n",
       "      <td>0</td>\n",
       "      <td>1</td>\n",
       "      <td>0</td>\n",
       "      <td>1</td>\n",
       "      <td>0</td>\n",
       "      <td>0</td>\n",
       "      <td>0</td>\n",
       "      <td>1</td>\n",
       "    </tr>\n",
       "    <tr>\n",
       "      <th>1</th>\n",
       "      <td>49</td>\n",
       "      <td>160</td>\n",
       "      <td>180</td>\n",
       "      <td>0</td>\n",
       "      <td>156</td>\n",
       "      <td>1.0</td>\n",
       "      <td>1</td>\n",
       "      <td>0</td>\n",
       "      <td>0</td>\n",
       "      <td>0</td>\n",
       "      <td>1</td>\n",
       "      <td>0</td>\n",
       "      <td>0</td>\n",
       "      <td>1</td>\n",
       "      <td>0</td>\n",
       "      <td>1</td>\n",
       "      <td>0</td>\n",
       "      <td>0</td>\n",
       "      <td>1</td>\n",
       "      <td>0</td>\n",
       "    </tr>\n",
       "    <tr>\n",
       "      <th>2</th>\n",
       "      <td>37</td>\n",
       "      <td>130</td>\n",
       "      <td>283</td>\n",
       "      <td>0</td>\n",
       "      <td>98</td>\n",
       "      <td>0.0</td>\n",
       "      <td>0</td>\n",
       "      <td>1</td>\n",
       "      <td>0</td>\n",
       "      <td>1</td>\n",
       "      <td>0</td>\n",
       "      <td>0</td>\n",
       "      <td>0</td>\n",
       "      <td>0</td>\n",
       "      <td>1</td>\n",
       "      <td>1</td>\n",
       "      <td>0</td>\n",
       "      <td>0</td>\n",
       "      <td>0</td>\n",
       "      <td>1</td>\n",
       "    </tr>\n",
       "    <tr>\n",
       "      <th>3</th>\n",
       "      <td>48</td>\n",
       "      <td>138</td>\n",
       "      <td>214</td>\n",
       "      <td>0</td>\n",
       "      <td>108</td>\n",
       "      <td>1.5</td>\n",
       "      <td>1</td>\n",
       "      <td>0</td>\n",
       "      <td>1</td>\n",
       "      <td>0</td>\n",
       "      <td>0</td>\n",
       "      <td>0</td>\n",
       "      <td>0</td>\n",
       "      <td>1</td>\n",
       "      <td>0</td>\n",
       "      <td>0</td>\n",
       "      <td>1</td>\n",
       "      <td>0</td>\n",
       "      <td>1</td>\n",
       "      <td>0</td>\n",
       "    </tr>\n",
       "    <tr>\n",
       "      <th>4</th>\n",
       "      <td>54</td>\n",
       "      <td>150</td>\n",
       "      <td>195</td>\n",
       "      <td>0</td>\n",
       "      <td>122</td>\n",
       "      <td>0.0</td>\n",
       "      <td>0</td>\n",
       "      <td>1</td>\n",
       "      <td>0</td>\n",
       "      <td>0</td>\n",
       "      <td>1</td>\n",
       "      <td>0</td>\n",
       "      <td>0</td>\n",
       "      <td>1</td>\n",
       "      <td>0</td>\n",
       "      <td>1</td>\n",
       "      <td>0</td>\n",
       "      <td>0</td>\n",
       "      <td>0</td>\n",
       "      <td>1</td>\n",
       "    </tr>\n",
       "  </tbody>\n",
       "</table>\n",
       "</div>"
      ],
      "text/plain": [
       "   Age  RestingBP  Cholesterol  FastingBS  MaxHR  Oldpeak  Sex_F  Sex_M  \\\n",
       "0   40        140          289          0    172      0.0      0      1   \n",
       "1   49        160          180          0    156      1.0      1      0   \n",
       "2   37        130          283          0     98      0.0      0      1   \n",
       "3   48        138          214          0    108      1.5      1      0   \n",
       "4   54        150          195          0    122      0.0      0      1   \n",
       "\n",
       "   ChestPainType_ASY  ChestPainType_ATA  ChestPainType_NAP  ChestPainType_TA  \\\n",
       "0                  0                  1                  0                 0   \n",
       "1                  0                  0                  1                 0   \n",
       "2                  0                  1                  0                 0   \n",
       "3                  1                  0                  0                 0   \n",
       "4                  0                  0                  1                 0   \n",
       "\n",
       "   RestingECG_LVH  RestingECG_Normal  RestingECG_ST  ExerciseAngina_N  \\\n",
       "0               0                  1              0                 1   \n",
       "1               0                  1              0                 1   \n",
       "2               0                  0              1                 1   \n",
       "3               0                  1              0                 0   \n",
       "4               0                  1              0                 1   \n",
       "\n",
       "   ExerciseAngina_Y  ST_Slope_Down  ST_Slope_Flat  ST_Slope_Up  \n",
       "0                 0              0              0            1  \n",
       "1                 0              0              1            0  \n",
       "2                 0              0              0            1  \n",
       "3                 1              0              1            0  \n",
       "4                 0              0              0            1  "
      ]
     },
     "execution_count": 16,
     "metadata": {},
     "output_type": "execute_result"
    }
   ],
   "source": [
    "data_concat.head()"
   ]
  },
  {
   "cell_type": "code",
   "execution_count": 17,
   "id": "b852f49c",
   "metadata": {
    "execution": {
     "iopub.execute_input": "2021-11-20T16:10:07.442653Z",
     "iopub.status.busy": "2021-11-20T16:10:07.441907Z",
     "iopub.status.idle": "2021-11-20T16:10:08.194620Z",
     "shell.execute_reply": "2021-11-20T16:10:08.194081Z",
     "shell.execute_reply.started": "2021-11-20T16:08:41.529396Z"
    },
    "papermill": {
     "duration": 0.792207,
     "end_time": "2021-11-20T16:10:08.194823",
     "exception": false,
     "start_time": "2021-11-20T16:10:07.402616",
     "status": "completed"
    },
    "tags": []
   },
   "outputs": [],
   "source": [
    "from sklearn.preprocessing import StandardScaler\n",
    "\n",
    "scaler = StandardScaler()\n",
    "\n",
    "x = scaler.fit_transform(data_concat)"
   ]
  },
  {
   "cell_type": "code",
   "execution_count": 18,
   "id": "c18ca49f",
   "metadata": {
    "execution": {
     "iopub.execute_input": "2021-11-20T16:10:08.268111Z",
     "iopub.status.busy": "2021-11-20T16:10:08.267547Z",
     "iopub.status.idle": "2021-11-20T16:10:08.270780Z",
     "shell.execute_reply": "2021-11-20T16:10:08.270370Z",
     "shell.execute_reply.started": "2021-11-20T16:08:42.206140Z"
    },
    "papermill": {
     "duration": 0.039638,
     "end_time": "2021-11-20T16:10:08.270910",
     "exception": false,
     "start_time": "2021-11-20T16:10:08.231272",
     "status": "completed"
    },
    "tags": []
   },
   "outputs": [],
   "source": [
    "y = data[\"HeartDisease\"].values"
   ]
  },
  {
   "cell_type": "code",
   "execution_count": 19,
   "id": "849e3937",
   "metadata": {
    "execution": {
     "iopub.execute_input": "2021-11-20T16:10:08.340839Z",
     "iopub.status.busy": "2021-11-20T16:10:08.340081Z",
     "iopub.status.idle": "2021-11-20T16:10:08.342811Z",
     "shell.execute_reply": "2021-11-20T16:10:08.343287Z",
     "shell.execute_reply.started": "2021-11-20T16:08:42.212087Z"
    },
    "papermill": {
     "duration": 0.039754,
     "end_time": "2021-11-20T16:10:08.343417",
     "exception": false,
     "start_time": "2021-11-20T16:10:08.303663",
     "status": "completed"
    },
    "tags": []
   },
   "outputs": [
    {
     "data": {
      "text/plain": [
       "(918,)"
      ]
     },
     "execution_count": 19,
     "metadata": {},
     "output_type": "execute_result"
    }
   ],
   "source": [
    "y.shape"
   ]
  },
  {
   "cell_type": "code",
   "execution_count": 20,
   "id": "c3fc5bd4",
   "metadata": {
    "execution": {
     "iopub.execute_input": "2021-11-20T16:10:08.429794Z",
     "iopub.status.busy": "2021-11-20T16:10:08.428916Z",
     "iopub.status.idle": "2021-11-20T16:10:08.476636Z",
     "shell.execute_reply": "2021-11-20T16:10:08.477538Z",
     "shell.execute_reply.started": "2021-11-20T16:08:42.227097Z"
    },
    "papermill": {
     "duration": 0.101188,
     "end_time": "2021-11-20T16:10:08.477680",
     "exception": false,
     "start_time": "2021-11-20T16:10:08.376492",
     "status": "completed"
    },
    "tags": []
   },
   "outputs": [],
   "source": [
    "from sklearn.model_selection import train_test_split\n",
    "\n",
    "x_train, x_test, y_train, y_test = train_test_split(x,y, test_size= 0.2, random_state= 42)"
   ]
  },
  {
   "cell_type": "code",
   "execution_count": 21,
   "id": "0f90bf5b",
   "metadata": {
    "execution": {
     "iopub.execute_input": "2021-11-20T16:10:08.556430Z",
     "iopub.status.busy": "2021-11-20T16:10:08.555552Z",
     "iopub.status.idle": "2021-11-20T16:10:08.558573Z",
     "shell.execute_reply": "2021-11-20T16:10:08.559055Z",
     "shell.execute_reply.started": "2021-11-20T16:08:42.269279Z"
    },
    "papermill": {
     "duration": 0.042572,
     "end_time": "2021-11-20T16:10:08.559194",
     "exception": false,
     "start_time": "2021-11-20T16:10:08.516622",
     "status": "completed"
    },
    "tags": []
   },
   "outputs": [
    {
     "data": {
      "text/plain": [
       "((734, 20), (734,), (184, 20), (184,))"
      ]
     },
     "execution_count": 21,
     "metadata": {},
     "output_type": "execute_result"
    }
   ],
   "source": [
    "x_train.shape, y_train.shape, x_test.shape, y_test.shape"
   ]
  },
  {
   "cell_type": "markdown",
   "id": "914ff918",
   "metadata": {
    "papermill": {
     "duration": 0.032936,
     "end_time": "2021-11-20T16:10:08.626551",
     "exception": false,
     "start_time": "2021-11-20T16:10:08.593615",
     "status": "completed"
    },
    "tags": []
   },
   "source": [
    "## **Logistic Regression**"
   ]
  },
  {
   "cell_type": "code",
   "execution_count": 22,
   "id": "aa3f65c3",
   "metadata": {
    "execution": {
     "iopub.execute_input": "2021-11-20T16:10:08.697429Z",
     "iopub.status.busy": "2021-11-20T16:10:08.696746Z",
     "iopub.status.idle": "2021-11-20T16:10:08.811123Z",
     "shell.execute_reply": "2021-11-20T16:10:08.811798Z",
     "shell.execute_reply.started": "2021-11-20T16:08:42.279495Z"
    },
    "papermill": {
     "duration": 0.152353,
     "end_time": "2021-11-20T16:10:08.812009",
     "exception": false,
     "start_time": "2021-11-20T16:10:08.659656",
     "status": "completed"
    },
    "tags": []
   },
   "outputs": [
    {
     "data": {
      "text/plain": [
       "LogisticRegression()"
      ]
     },
     "execution_count": 22,
     "metadata": {},
     "output_type": "execute_result"
    }
   ],
   "source": [
    "from sklearn.linear_model import LogisticRegression\n",
    "\n",
    "logistic_model = LogisticRegression()\n",
    "\n",
    "\n",
    "logistic_model.fit(x_train, y_train)\n"
   ]
  },
  {
   "cell_type": "code",
   "execution_count": 23,
   "id": "60597423",
   "metadata": {
    "execution": {
     "iopub.execute_input": "2021-11-20T16:10:08.941205Z",
     "iopub.status.busy": "2021-11-20T16:10:08.940207Z",
     "iopub.status.idle": "2021-11-20T16:10:08.947611Z",
     "shell.execute_reply": "2021-11-20T16:10:08.948494Z",
     "shell.execute_reply.started": "2021-11-20T16:08:42.356459Z"
    },
    "papermill": {
     "duration": 0.068842,
     "end_time": "2021-11-20T16:10:08.948754",
     "exception": false,
     "start_time": "2021-11-20T16:10:08.879912",
     "status": "completed"
    },
    "tags": []
   },
   "outputs": [
    {
     "name": "stdout",
     "output_type": "stream",
     "text": [
      "Logistic Regression Training Accuracy:  87.19 %\n",
      "Logistic Regression Testing Accuracy:  85.33 %\n"
     ]
    }
   ],
   "source": [
    "print(f\"Logistic Regression Training Accuracy: {logistic_model.score(x_train,y_train) * 100: 0.2f} %\")\n",
    "print(f\"Logistic Regression Testing Accuracy: {logistic_model.score(x_test,y_test) * 100: 0.2f} %\")"
   ]
  },
  {
   "cell_type": "markdown",
   "id": "d70ce2b1",
   "metadata": {
    "papermill": {
     "duration": 0.061298,
     "end_time": "2021-11-20T16:10:09.072944",
     "exception": false,
     "start_time": "2021-11-20T16:10:09.011646",
     "status": "completed"
    },
    "tags": []
   },
   "source": [
    "## **Naive Bayes Model**"
   ]
  },
  {
   "cell_type": "code",
   "execution_count": 24,
   "id": "fc5a2e5f",
   "metadata": {
    "execution": {
     "iopub.execute_input": "2021-11-20T16:10:09.147632Z",
     "iopub.status.busy": "2021-11-20T16:10:09.146817Z",
     "iopub.status.idle": "2021-11-20T16:10:09.154249Z",
     "shell.execute_reply": "2021-11-20T16:10:09.153770Z",
     "shell.execute_reply.started": "2021-11-20T16:08:42.368365Z"
    },
    "papermill": {
     "duration": 0.045151,
     "end_time": "2021-11-20T16:10:09.154355",
     "exception": false,
     "start_time": "2021-11-20T16:10:09.109204",
     "status": "completed"
    },
    "tags": []
   },
   "outputs": [
    {
     "data": {
      "text/plain": [
       "GaussianNB()"
      ]
     },
     "execution_count": 24,
     "metadata": {},
     "output_type": "execute_result"
    }
   ],
   "source": [
    "from sklearn.naive_bayes import GaussianNB\n",
    "\n",
    "nav_model = GaussianNB()\n",
    "\n",
    "nav_model.fit(x_train,y_train)"
   ]
  },
  {
   "cell_type": "code",
   "execution_count": 25,
   "id": "2fe6629b",
   "metadata": {
    "execution": {
     "iopub.execute_input": "2021-11-20T16:10:09.227340Z",
     "iopub.status.busy": "2021-11-20T16:10:09.226601Z",
     "iopub.status.idle": "2021-11-20T16:10:09.234559Z",
     "shell.execute_reply": "2021-11-20T16:10:09.233926Z",
     "shell.execute_reply.started": "2021-11-20T16:08:42.384082Z"
    },
    "papermill": {
     "duration": 0.04662,
     "end_time": "2021-11-20T16:10:09.234710",
     "exception": false,
     "start_time": "2021-11-20T16:10:09.188090",
     "status": "completed"
    },
    "tags": []
   },
   "outputs": [
    {
     "name": "stdout",
     "output_type": "stream",
     "text": [
      "Naive Bayes Model Training Accuracy:  85.83 %\n",
      "Naive Bayes Model Testing Accuracy:  86.41 %\n"
     ]
    }
   ],
   "source": [
    "print(f\"Naive Bayes Model Training Accuracy: {nav_model.score(x_train,y_train) * 100: 0.2f} %\")\n",
    "print(f\"Naive Bayes Model Testing Accuracy: {nav_model.score(x_test,y_test) * 100: 0.2f} %\")"
   ]
  },
  {
   "cell_type": "markdown",
   "id": "07c5d220",
   "metadata": {
    "papermill": {
     "duration": 0.033948,
     "end_time": "2021-11-20T16:10:09.305243",
     "exception": false,
     "start_time": "2021-11-20T16:10:09.271295",
     "status": "completed"
    },
    "tags": []
   },
   "source": [
    "## **Support Vector Machine Model**"
   ]
  },
  {
   "cell_type": "code",
   "execution_count": 26,
   "id": "b6f7e15d",
   "metadata": {
    "execution": {
     "iopub.execute_input": "2021-11-20T16:10:09.377986Z",
     "iopub.status.busy": "2021-11-20T16:10:09.377219Z",
     "iopub.status.idle": "2021-11-20T16:10:09.397538Z",
     "shell.execute_reply": "2021-11-20T16:10:09.397099Z",
     "shell.execute_reply.started": "2021-11-20T16:08:42.395670Z"
    },
    "papermill": {
     "duration": 0.058524,
     "end_time": "2021-11-20T16:10:09.397642",
     "exception": false,
     "start_time": "2021-11-20T16:10:09.339118",
     "status": "completed"
    },
    "tags": []
   },
   "outputs": [
    {
     "data": {
      "text/plain": [
       "SVC()"
      ]
     },
     "execution_count": 26,
     "metadata": {},
     "output_type": "execute_result"
    }
   ],
   "source": [
    "from sklearn.svm import SVC\n",
    "\n",
    "svc_model = SVC()\n",
    "\n",
    "svc_model.fit(x_train, y_train)\n"
   ]
  },
  {
   "cell_type": "code",
   "execution_count": 27,
   "id": "e485f982",
   "metadata": {
    "execution": {
     "iopub.execute_input": "2021-11-20T16:10:09.471447Z",
     "iopub.status.busy": "2021-11-20T16:10:09.470734Z",
     "iopub.status.idle": "2021-11-20T16:10:09.487404Z",
     "shell.execute_reply": "2021-11-20T16:10:09.486755Z",
     "shell.execute_reply.started": "2021-11-20T16:08:42.433699Z"
    },
    "papermill": {
     "duration": 0.054948,
     "end_time": "2021-11-20T16:10:09.487517",
     "exception": false,
     "start_time": "2021-11-20T16:10:09.432569",
     "status": "completed"
    },
    "tags": []
   },
   "outputs": [
    {
     "name": "stdout",
     "output_type": "stream",
     "text": [
      "SVC Model Training Accuracy:  90.19 %\n",
      "SVC Model Testing Accuracy:  89.13 %\n"
     ]
    }
   ],
   "source": [
    "print(f\"SVC Model Training Accuracy: {svc_model.score(x_train,y_train) * 100: 0.2f} %\")\n",
    "print(f\"SVC Model Testing Accuracy: {svc_model.score(x_test,y_test) * 100: 0.2f} %\")"
   ]
  },
  {
   "cell_type": "markdown",
   "id": "8a456e12",
   "metadata": {
    "papermill": {
     "duration": 0.036093,
     "end_time": "2021-11-20T16:10:09.558515",
     "exception": false,
     "start_time": "2021-11-20T16:10:09.522422",
     "status": "completed"
    },
    "tags": []
   },
   "source": [
    "## **K-Nearest Neighbors Model**"
   ]
  },
  {
   "cell_type": "code",
   "execution_count": 28,
   "id": "fe66f93e",
   "metadata": {
    "execution": {
     "iopub.execute_input": "2021-11-20T16:10:09.631703Z",
     "iopub.status.busy": "2021-11-20T16:10:09.630982Z",
     "iopub.status.idle": "2021-11-20T16:10:09.683734Z",
     "shell.execute_reply": "2021-11-20T16:10:09.683290Z",
     "shell.execute_reply.started": "2021-11-20T16:08:42.463080Z"
    },
    "papermill": {
     "duration": 0.090828,
     "end_time": "2021-11-20T16:10:09.683838",
     "exception": false,
     "start_time": "2021-11-20T16:10:09.593010",
     "status": "completed"
    },
    "tags": []
   },
   "outputs": [
    {
     "data": {
      "text/plain": [
       "KNeighborsClassifier()"
      ]
     },
     "execution_count": 28,
     "metadata": {},
     "output_type": "execute_result"
    }
   ],
   "source": [
    "from sklearn.neighbors import KNeighborsClassifier\n",
    "\n",
    "kne_model = KNeighborsClassifier(n_neighbors= 5)\n",
    "\n",
    "kne_model.fit(x_train,y_train)"
   ]
  },
  {
   "cell_type": "code",
   "execution_count": 29,
   "id": "b7f3f79e",
   "metadata": {
    "execution": {
     "iopub.execute_input": "2021-11-20T16:10:09.759681Z",
     "iopub.status.busy": "2021-11-20T16:10:09.758865Z",
     "iopub.status.idle": "2021-11-20T16:10:09.816043Z",
     "shell.execute_reply": "2021-11-20T16:10:09.815362Z",
     "shell.execute_reply.started": "2021-11-20T16:08:42.521327Z"
    },
    "papermill": {
     "duration": 0.096536,
     "end_time": "2021-11-20T16:10:09.816187",
     "exception": false,
     "start_time": "2021-11-20T16:10:09.719651",
     "status": "completed"
    },
    "tags": []
   },
   "outputs": [
    {
     "name": "stdout",
     "output_type": "stream",
     "text": [
      "K Neighbor Model Training Accuracy:  88.69 %\n",
      "K Neighbor Testing Accuracy:  86.41 %\n"
     ]
    }
   ],
   "source": [
    "print(f\"K Neighbor Model Training Accuracy: {kne_model.score(x_train,y_train) * 100: 0.2f} %\")\n",
    "print(f\"K Neighbor Testing Accuracy: {kne_model.score(x_test,y_test) * 100: 0.2f} %\")"
   ]
  },
  {
   "cell_type": "markdown",
   "id": "44af5c72",
   "metadata": {
    "papermill": {
     "duration": 0.035999,
     "end_time": "2021-11-20T16:10:09.889541",
     "exception": false,
     "start_time": "2021-11-20T16:10:09.853542",
     "status": "completed"
    },
    "tags": []
   },
   "source": [
    "## **Decision Tree Model**"
   ]
  },
  {
   "cell_type": "code",
   "execution_count": 30,
   "id": "d5eef40e",
   "metadata": {
    "execution": {
     "iopub.execute_input": "2021-11-20T16:10:09.964170Z",
     "iopub.status.busy": "2021-11-20T16:10:09.963467Z",
     "iopub.status.idle": "2021-11-20T16:10:09.992827Z",
     "shell.execute_reply": "2021-11-20T16:10:09.992292Z",
     "shell.execute_reply.started": "2021-11-20T16:08:42.580373Z"
    },
    "papermill": {
     "duration": 0.068377,
     "end_time": "2021-11-20T16:10:09.992969",
     "exception": false,
     "start_time": "2021-11-20T16:10:09.924592",
     "status": "completed"
    },
    "tags": []
   },
   "outputs": [
    {
     "data": {
      "text/plain": [
       "DecisionTreeClassifier()"
      ]
     },
     "execution_count": 30,
     "metadata": {},
     "output_type": "execute_result"
    }
   ],
   "source": [
    "from sklearn.tree import DecisionTreeClassifier\n",
    "\n",
    "tree_model = DecisionTreeClassifier()\n",
    "\n",
    "tree_model.fit(x_train, y_train)"
   ]
  },
  {
   "cell_type": "code",
   "execution_count": 31,
   "id": "02974751",
   "metadata": {
    "execution": {
     "iopub.execute_input": "2021-11-20T16:10:10.069589Z",
     "iopub.status.busy": "2021-11-20T16:10:10.068793Z",
     "iopub.status.idle": "2021-11-20T16:10:10.073618Z",
     "shell.execute_reply": "2021-11-20T16:10:10.074245Z",
     "shell.execute_reply.started": "2021-11-20T16:08:42.615839Z"
    },
    "papermill": {
     "duration": 0.045095,
     "end_time": "2021-11-20T16:10:10.074402",
     "exception": false,
     "start_time": "2021-11-20T16:10:10.029307",
     "status": "completed"
    },
    "tags": []
   },
   "outputs": [
    {
     "name": "stdout",
     "output_type": "stream",
     "text": [
      "Decision Tree Model Training Accuracy:  100.00 %\n",
      "Decision Tree Testing Accuracy:  80.43 %\n"
     ]
    }
   ],
   "source": [
    "print(f\"Decision Tree Model Training Accuracy: {tree_model.score(x_train,y_train) * 100: 0.2f} %\")\n",
    "print(f\"Decision Tree Testing Accuracy: {tree_model.score(x_test,y_test) * 100: 0.2f} %\")"
   ]
  },
  {
   "cell_type": "markdown",
   "id": "181c458d",
   "metadata": {
    "papermill": {
     "duration": 0.067193,
     "end_time": "2021-11-20T16:10:10.199679",
     "exception": false,
     "start_time": "2021-11-20T16:10:10.132486",
     "status": "completed"
    },
    "tags": []
   },
   "source": [
    "## **Random Forest Model**"
   ]
  },
  {
   "cell_type": "code",
   "execution_count": 32,
   "id": "9f01f065",
   "metadata": {
    "execution": {
     "iopub.execute_input": "2021-11-20T16:10:10.334856Z",
     "iopub.status.busy": "2021-11-20T16:10:10.331208Z",
     "iopub.status.idle": "2021-11-20T16:10:10.740148Z",
     "shell.execute_reply": "2021-11-20T16:10:10.740618Z",
     "shell.execute_reply.started": "2021-11-20T16:08:42.625127Z"
    },
    "papermill": {
     "duration": 0.473762,
     "end_time": "2021-11-20T16:10:10.740790",
     "exception": false,
     "start_time": "2021-11-20T16:10:10.267028",
     "status": "completed"
    },
    "tags": []
   },
   "outputs": [
    {
     "data": {
      "text/plain": [
       "RandomForestClassifier()"
      ]
     },
     "execution_count": 32,
     "metadata": {},
     "output_type": "execute_result"
    }
   ],
   "source": [
    "from sklearn.ensemble import RandomForestClassifier\n",
    "\n",
    "forest_model = RandomForestClassifier(n_estimators= 100)\n",
    "\n",
    "forest_model.fit(x_train,y_train)"
   ]
  },
  {
   "cell_type": "code",
   "execution_count": 33,
   "id": "da19d9db",
   "metadata": {
    "execution": {
     "iopub.execute_input": "2021-11-20T16:10:10.822026Z",
     "iopub.status.busy": "2021-11-20T16:10:10.821150Z",
     "iopub.status.idle": "2021-11-20T16:10:10.853473Z",
     "shell.execute_reply": "2021-11-20T16:10:10.853049Z",
     "shell.execute_reply.started": "2021-11-20T16:08:42.969586Z"
    },
    "papermill": {
     "duration": 0.072417,
     "end_time": "2021-11-20T16:10:10.853586",
     "exception": false,
     "start_time": "2021-11-20T16:10:10.781169",
     "status": "completed"
    },
    "tags": []
   },
   "outputs": [
    {
     "name": "stdout",
     "output_type": "stream",
     "text": [
      "Random Forest Model Training Accuracy:  100.00 %\n",
      "Random Forest Testing Accuracy:  88.04 %\n"
     ]
    }
   ],
   "source": [
    "print(f\"Random Forest Model Training Accuracy: {forest_model.score(x_train,y_train) * 100: 0.2f} %\")\n",
    "print(f\"Random Forest Testing Accuracy: {forest_model.score(x_test,y_test) * 100: 0.2f} %\")"
   ]
  },
  {
   "cell_type": "markdown",
   "id": "eaf944a4",
   "metadata": {
    "papermill": {
     "duration": 0.037845,
     "end_time": "2021-11-20T16:10:10.929056",
     "exception": false,
     "start_time": "2021-11-20T16:10:10.891211",
     "status": "completed"
    },
    "tags": []
   },
   "source": [
    "## **Neural Network Model**"
   ]
  },
  {
   "cell_type": "code",
   "execution_count": 34,
   "id": "8c413946",
   "metadata": {
    "execution": {
     "iopub.execute_input": "2021-11-20T16:10:11.010074Z",
     "iopub.status.busy": "2021-11-20T16:10:11.009307Z",
     "iopub.status.idle": "2021-11-20T16:10:12.372183Z",
     "shell.execute_reply": "2021-11-20T16:10:12.372901Z",
     "shell.execute_reply.started": "2021-11-20T16:08:43.010641Z"
    },
    "papermill": {
     "duration": 1.405453,
     "end_time": "2021-11-20T16:10:12.373120",
     "exception": false,
     "start_time": "2021-11-20T16:10:10.967667",
     "status": "completed"
    },
    "tags": []
   },
   "outputs": [
    {
     "name": "stderr",
     "output_type": "stream",
     "text": [
      "/opt/conda/lib/python3.7/site-packages/sklearn/neural_network/_multilayer_perceptron.py:585: ConvergenceWarning: Stochastic Optimizer: Maximum iterations (200) reached and the optimization hasn't converged yet.\n",
      "  % self.max_iter, ConvergenceWarning)\n"
     ]
    },
    {
     "data": {
      "text/plain": [
       "MLPClassifier()"
      ]
     },
     "execution_count": 34,
     "metadata": {},
     "output_type": "execute_result"
    }
   ],
   "source": [
    "from sklearn.neural_network import MLPClassifier\n",
    "\n",
    "mlp_model = MLPClassifier(max_iter= 200)\n",
    "\n",
    "mlp_model.fit(x_train,y_train)"
   ]
  },
  {
   "cell_type": "code",
   "execution_count": 35,
   "id": "7d640d42",
   "metadata": {
    "execution": {
     "iopub.execute_input": "2021-11-20T16:10:12.508690Z",
     "iopub.status.busy": "2021-11-20T16:10:12.507680Z",
     "iopub.status.idle": "2021-11-20T16:10:12.516384Z",
     "shell.execute_reply": "2021-11-20T16:10:12.517434Z",
     "shell.execute_reply.started": "2021-11-20T16:08:44.615379Z"
    },
    "papermill": {
     "duration": 0.074943,
     "end_time": "2021-11-20T16:10:12.517675",
     "exception": false,
     "start_time": "2021-11-20T16:10:12.442732",
     "status": "completed"
    },
    "tags": []
   },
   "outputs": [
    {
     "name": "stdout",
     "output_type": "stream",
     "text": [
      "Neural Model Training Accuracy:  92.78 %\n",
      "Neural Testing Accuracy:  91.30 %\n"
     ]
    }
   ],
   "source": [
    "print(f\"Neural Model Training Accuracy: {mlp_model.score(x_train,y_train) * 100: 0.2f} %\")\n",
    "print(f\"Neural Testing Accuracy: {mlp_model.score(x_test,y_test) * 100: 0.2f} %\")"
   ]
  },
  {
   "cell_type": "markdown",
   "id": "655e2966",
   "metadata": {
    "papermill": {
     "duration": 0.063647,
     "end_time": "2021-11-20T16:10:12.650167",
     "exception": false,
     "start_time": "2021-11-20T16:10:12.586520",
     "status": "completed"
    },
    "tags": []
   },
   "source": [
    "## **Stack Classifier Model**"
   ]
  },
  {
   "cell_type": "code",
   "execution_count": 36,
   "id": "d56d1966",
   "metadata": {
    "execution": {
     "iopub.execute_input": "2021-11-20T16:10:12.729804Z",
     "iopub.status.busy": "2021-11-20T16:10:12.729055Z",
     "iopub.status.idle": "2021-11-20T16:10:21.079519Z",
     "shell.execute_reply": "2021-11-20T16:10:21.080621Z",
     "shell.execute_reply.started": "2021-11-20T16:08:44.629296Z"
    },
    "papermill": {
     "duration": 8.393764,
     "end_time": "2021-11-20T16:10:21.080912",
     "exception": false,
     "start_time": "2021-11-20T16:10:12.687148",
     "status": "completed"
    },
    "tags": []
   },
   "outputs": [
    {
     "name": "stderr",
     "output_type": "stream",
     "text": [
      "/opt/conda/lib/python3.7/site-packages/sklearn/neural_network/_multilayer_perceptron.py:585: ConvergenceWarning: Stochastic Optimizer: Maximum iterations (200) reached and the optimization hasn't converged yet.\n",
      "  % self.max_iter, ConvergenceWarning)\n",
      "/opt/conda/lib/python3.7/site-packages/sklearn/neural_network/_multilayer_perceptron.py:585: ConvergenceWarning: Stochastic Optimizer: Maximum iterations (200) reached and the optimization hasn't converged yet.\n",
      "  % self.max_iter, ConvergenceWarning)\n",
      "/opt/conda/lib/python3.7/site-packages/sklearn/neural_network/_multilayer_perceptron.py:585: ConvergenceWarning: Stochastic Optimizer: Maximum iterations (200) reached and the optimization hasn't converged yet.\n",
      "  % self.max_iter, ConvergenceWarning)\n",
      "/opt/conda/lib/python3.7/site-packages/sklearn/neural_network/_multilayer_perceptron.py:585: ConvergenceWarning: Stochastic Optimizer: Maximum iterations (200) reached and the optimization hasn't converged yet.\n",
      "  % self.max_iter, ConvergenceWarning)\n",
      "/opt/conda/lib/python3.7/site-packages/sklearn/neural_network/_multilayer_perceptron.py:585: ConvergenceWarning: Stochastic Optimizer: Maximum iterations (200) reached and the optimization hasn't converged yet.\n",
      "  % self.max_iter, ConvergenceWarning)\n",
      "/opt/conda/lib/python3.7/site-packages/sklearn/neural_network/_multilayer_perceptron.py:585: ConvergenceWarning: Stochastic Optimizer: Maximum iterations (200) reached and the optimization hasn't converged yet.\n",
      "  % self.max_iter, ConvergenceWarning)\n"
     ]
    },
    {
     "data": {
      "text/plain": [
       "StackingClassifier(estimators=[('Logis', LogisticRegression()),\n",
       "                               ('nav', GaussianNB()), ('svc', SVC()),\n",
       "                               ('kne', KNeighborsClassifier()),\n",
       "                               ('tree', DecisionTreeClassifier()),\n",
       "                               ('forest', RandomForestClassifier()),\n",
       "                               ('mlp', MLPClassifier())],\n",
       "                   final_estimator=LogisticRegression())"
      ]
     },
     "execution_count": 36,
     "metadata": {},
     "output_type": "execute_result"
    }
   ],
   "source": [
    "from sklearn.ensemble import StackingClassifier\n",
    "from sklearn.linear_model import LogisticRegression\n",
    "\n",
    "model_list = [(\"Logis\",logistic_model), (\"nav\",nav_model), (\"svc\",svc_model), (\"kne\",kne_model),(\"tree\",tree_model), (\"forest\",forest_model), (\"mlp\",mlp_model)]\n",
    "\n",
    "stack_model = StackingClassifier(estimators= model_list, final_estimator= LogisticRegression())\n",
    "\n",
    "stack_model.fit(x_train,y_train)"
   ]
  },
  {
   "cell_type": "code",
   "execution_count": 37,
   "id": "104b26ef",
   "metadata": {
    "execution": {
     "iopub.execute_input": "2021-11-20T16:10:21.314746Z",
     "iopub.status.busy": "2021-11-20T16:10:21.311628Z",
     "iopub.status.idle": "2021-11-20T16:10:21.534513Z",
     "shell.execute_reply": "2021-11-20T16:10:21.535156Z",
     "shell.execute_reply.started": "2021-11-20T16:08:54.175124Z"
    },
    "papermill": {
     "duration": 0.327333,
     "end_time": "2021-11-20T16:10:21.535369",
     "exception": false,
     "start_time": "2021-11-20T16:10:21.208036",
     "status": "completed"
    },
    "tags": []
   },
   "outputs": [
    {
     "name": "stdout",
     "output_type": "stream",
     "text": [
      "Stack Model Training Accuracy:  92.10 %\n",
      "Stack Model Testing Accuracy:  88.04 %\n"
     ]
    }
   ],
   "source": [
    "print(f\"Stack Model Training Accuracy: {stack_model.score(x_train,y_train) * 100: 0.2f} %\")\n",
    "print(f\"Stack Model Testing Accuracy: {stack_model.score(x_test,y_test) * 100: 0.2f} %\")"
   ]
  },
  {
   "cell_type": "code",
   "execution_count": null,
   "id": "d3efce5b",
   "metadata": {
    "papermill": {
     "duration": 0.066986,
     "end_time": "2021-11-20T16:10:21.730991",
     "exception": false,
     "start_time": "2021-11-20T16:10:21.664005",
     "status": "completed"
    },
    "tags": []
   },
   "outputs": [],
   "source": []
  }
 ],
 "metadata": {
  "kernelspec": {
   "display_name": "Python 3",
   "language": "python",
   "name": "python3"
  },
  "language_info": {
   "codemirror_mode": {
    "name": "ipython",
    "version": 3
   },
   "file_extension": ".py",
   "mimetype": "text/x-python",
   "name": "python",
   "nbconvert_exporter": "python",
   "pygments_lexer": "ipython3",
   "version": "3.7.10"
  },
  "papermill": {
   "default_parameters": {},
   "duration": 23.56643,
   "end_time": "2021-11-20T16:10:22.306258",
   "environment_variables": {},
   "exception": null,
   "input_path": "__notebook__.ipynb",
   "output_path": "__notebook__.ipynb",
   "parameters": {},
   "start_time": "2021-11-20T16:09:58.739828",
   "version": "2.3.3"
  }
 },
 "nbformat": 4,
 "nbformat_minor": 5
}
